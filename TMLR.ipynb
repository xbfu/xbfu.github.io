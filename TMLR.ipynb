{
 "cells": [
  {
   "cell_type": "markdown",
   "id": "f89eb4ce",
   "metadata": {},
   "source": [
    "### Reviewer K8TF"
   ]
  },
  {
   "cell_type": "markdown",
   "id": "8ecba8a2",
   "metadata": {},
   "source": [
    "We appreciate the constructive suggestions from Reviewer K8TF. We hope our point-by-point clarifications can address your concerns.\n",
    "\n",
    "- W1: Not enough examples supporting that new problem formulation should be explored. In my opinion, when one proposes a new problem/field/etc. that should be explored, he/she should give many examples of where this problem appears, so that the community has a clear understanding of why this new area/field should be explored.\n",
    "\n",
    "- R1: Thanks for your constructive suggestion. \n",
    "\n",
    "---\n",
    "\n",
    "- W2: In the current version, graphless clients perform more work than the clients who own graph structures. Therefore, clients who have local graph structures will stay without any jobs for some time. In my opinion, this is a waste of resources. I would suggest performing graph learning on the clients with local graph structures and forcing the output to be close to ground truth local graph structure. This knowledge can also be used by graphless clients to further improve their graph learners.\n",
    "\n",
    "- R2: Thanks for your constructive suggestion. "
   ]
  },
  {
   "cell_type": "markdown",
   "id": "d3d5521f",
   "metadata": {},
   "source": [
    "- Q1: In the example of Figure 1, it seems new banks who don’t have transaction history are also not able to construct proper node features as well, i.e. $\\textbf{X}^{(k)}$  seems to be unreliable as well. For example, node features should contain features like average money transferred/spent which cannot be known without transaction history. In other words, it feels like if a client doesn’t have $\\textbf{A}^{(k)}$, then it also doesn’t have good $\\textbf{X}^{(k)}$, and one should use node feature learner as well.\n",
    "    \n",
    "- A1:\n",
    "    \n",
    "---\n",
    "\n",
    "- Q2: Why is there only one step to update graph learners’ parameters while for other parts there are several local steps?\n",
    "\n",
    "- A2:\n",
    "\n",
    "---\n",
    "\n",
    "- Q3: In the introduction you mention “This scenario brings us a novel problem in the federated setting”. However, in the experiments, you mention “How does FedGLS perform compared with other state-of-the-art baselines?”. These two sentences contradict each other. Maybe it’s better to link to a section with baselines to not confuse readers.\n",
    "\n",
    "- A3: \n",
    "\n",
    "---\n",
    "\n",
    "- Q4: Why does the related work section come in the end?\n",
    "\n",
    "- A4: We have moved Related work to Section 2."
   ]
  },
  {
   "cell_type": "markdown",
   "id": "22f25ca9",
   "metadata": {},
   "source": [
    "### Reviewer WwGe"
   ]
  },
  {
   "cell_type": "markdown",
   "id": "749e3c3a",
   "metadata": {},
   "source": [
    "We gratefully acknowledge your appreciation of our paper and hope the following clarification can address your concerns.\n",
    "\n",
    "- C1: Some experiments are executed on only some of the datasets (for example, Table 2 considers only CiteSeer and PubMed datasets). Why is that so? Doesn't the method work well for other datasets? Some explanation is needed here (not critical for accepting the paper).\n",
    "\n",
    "- A1: \n",
    "\n",
    "---\n",
    "\n",
    "- C2: For easier readability, please add parentheses when citing papers, e.g., \"One key problem that FL concerns is statistical heterogeneity: the data across clients are likely to be non-IID (see Li et al. 2020a)\" (not critical for accepting the paper).\n",
    "\n",
    "- A2: Thanks for pointing this out. We modified this problem in our revised version."
   ]
  },
  {
   "cell_type": "markdown",
   "id": "8a7dcb7c",
   "metadata": {},
   "source": [
    "### Reviewer iWP3"
   ]
  },
  {
   "cell_type": "markdown",
   "id": "3ce09835",
   "metadata": {},
   "source": [
    "We sincerely appreciate your efforts to review our paper and provide insightful suggestions. We hope our point-by-point clarifications can address your concerns.\n",
    "\n",
    "- W1: While the experimental results provide a nice view on the performance of the model, a deeper analysis discussing why FedGLS outperforms the other baselines would be beneficial. On the other hand, it would be interesting to analyze the performance of some of the components, like the graph learner to measure how accurate is this model in estimating the underlying (unknown) graph structure.\n",
    "\n",
    "- R1: \n",
    "\n",
    "---\n",
    "\n",
    "- W2: The discussion of the benefits, limitations and future work is relatively brief. It would be interesting to discuss the specific challenges encountered, the limitations of the proposed method, and further research avenues to explore in the future.\n",
    "\n",
    "- R2: \n",
    "\n",
    "\n",
    "---\n",
    "\n",
    "- C1: In the Introduction/motivation of the work, I think it would be nice to position the paper better with respect the horizontal vs vertical federated learning paradigms. At first, when reading these first sections it was a bit unclear to me if the method was more oriented to solve a problem for vertical or horizontal federated learning. It is a minor comment, but I think it could help to position better the paper and to make it easier for the average reader.\n",
    "\n",
    "- A1: \n",
    "\n",
    "---\n",
    "\n",
    "- C2: Analyze the ability of the graph learner to estimate the underlying graph structure for graphless clients.\n",
    "\n",
    "- A2: \n",
    "\n",
    "---\n",
    "\n",
    "- C3: Extend the discussion on the benefits, challenges, limitations, and future research in this direction.\n",
    "\n",
    "- A3:"
   ]
  },
  {
   "cell_type": "code",
   "execution_count": null,
   "id": "05f6e53e",
   "metadata": {},
   "outputs": [],
   "source": []
  }
 ],
 "metadata": {
  "kernelspec": {
   "display_name": "Python 3 (ipykernel)",
   "language": "python",
   "name": "python3"
  },
  "language_info": {
   "codemirror_mode": {
    "name": "ipython",
    "version": 3
   },
   "file_extension": ".py",
   "mimetype": "text/x-python",
   "name": "python",
   "nbconvert_exporter": "python",
   "pygments_lexer": "ipython3",
   "version": "3.10.9"
  }
 },
 "nbformat": 4,
 "nbformat_minor": 5
}
